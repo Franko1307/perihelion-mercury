{
 "cells": [
  {
   "cell_type": "markdown",
   "metadata": {},
   "source": [
    "# The perihelion motion of Mercury - Base solution"
   ]
  },
  {
   "cell_type": "markdown",
   "metadata": {},
   "source": [
    "This Notebook contains an extension of the base solution by simulating Venus as a second planet.\n",
    "\n",
    "The gravitational forces between Mercury and Venus are neglected and only the gravitational force of the Sun on Mercury and Venus is used."
   ]
  },
  {
   "cell_type": "markdown",
   "metadata": {
    "ExecuteTime": {
     "end_time": "2018-01-12T14:54:06.755848Z",
     "start_time": "2018-01-12T14:54:06.752957Z"
    }
   },
   "source": [
    "## Importing VPython"
   ]
  },
  {
   "cell_type": "code",
   "execution_count": null,
   "metadata": {
    "ExecuteTime": {
     "end_time": "2018-01-12T15:47:12.896436Z",
     "start_time": "2018-01-12T15:47:11.523943Z"
    },
    "scrolled": true
   },
   "outputs": [],
   "source": [
    "from vpython import *"
   ]
  },
  {
   "cell_type": "markdown",
   "metadata": {},
   "source": [
    "## Defining parameters and functions"
   ]
  },
  {
   "cell_type": "markdown",
   "metadata": {
    "ExecuteTime": {
     "end_time": "2018-01-12T14:55:04.374817Z",
     "start_time": "2018-01-12T14:55:04.370205Z"
    }
   },
   "source": [
    "The following parameter values are computed using https://nssdc.gsfc.nasa.gov/planetary/factsheet"
   ]
  },
  {
   "cell_type": "code",
   "execution_count": null,
   "metadata": {
    "ExecuteTime": {
     "end_time": "2018-01-12T15:47:12.904611Z",
     "start_time": "2018-01-12T15:47:12.899181Z"
    }
   },
   "outputs": [],
   "source": [
    "rM0 = 4.6    # initial radius of Mercury orbit, in units of R0\n",
    "vM0 = 0.51   # initial orbital speed of Mercury, in units of R0/T0\n",
    "rV0 = 10.7   # initial radius of Venus orbit, in units of R0\n",
    "vV0 = 0.3    # initial orbital speed of Venus, in units of R0/T0\n",
    "c_a = 1.01   # base acceleration of Mercur, in units of R0/T0**2\n",
    "rS  = 3.e-7  # Schwarzschild radius of Sun, in units of R0\n",
    "a2  = 8.2e-7 # specific angular momentum in units of R0**2"
   ]
  },
  {
   "cell_type": "markdown",
   "metadata": {},
   "source": [
    "Because we want to visualize the orbit of Mercury and Venus, we need to work with vectors. The initial position and velocity vectors are given by"
   ]
  },
  {
   "cell_type": "code",
   "execution_count": null,
   "metadata": {
    "ExecuteTime": {
     "end_time": "2018-01-12T15:47:12.913911Z",
     "start_time": "2018-01-12T15:47:12.908386Z"
    }
   },
   "outputs": [],
   "source": [
    "vec_rM0 = vector(0, rM0, 0) # Initial position vector of Mercury\n",
    "vec_vM0 = vector(vM0, 0, 0) # Initial velocity vector of Mercury\n",
    "vec_rV0 = vector(0, rV0, 0) # Initial position vector of Venus\n",
    "vec_vV0 = vector(vV0, 0, 0) # Initial velocity vector of Venus"
   ]
  },
  {
   "cell_type": "markdown",
   "metadata": {},
   "source": [
    "Next, we specify how to update vectors. For this update, we have to compute the force acting on the planet."
   ]
  },
  {
   "cell_type": "code",
   "execution_count": null,
   "metadata": {
    "ExecuteTime": {
     "end_time": "2018-01-12T15:47:12.931011Z",
     "start_time": "2018-01-12T15:47:12.917088Z"
    }
   },
   "outputs": [],
   "source": [
    "def evolve_planet(vec_r_old, vec_v_old, alpha, beta):\n",
    "    \"\"\"\n",
    "    Advance one planet in time by one step of length dt.\n",
    "    Arguments:\n",
    "         - vec_r_old: old position vector of planet\n",
    "         - vec_v_old: old velocity vector of planet\n",
    "         - alpha: strength of 1/r**3 term in force\n",
    "         - beta: strength of 1/r**4 term in force\n",
    "    Returns:\n",
    "         - vec_r_new: new position vector of planet\n",
    "         - vec_v_new: new velocity vector of planet\n",
    "    \"\"\"\n",
    "\n",
    "    # compute the factor coming from General Relativity\n",
    "    fact = 1 + alpha * rS / vec_r_old.mag + beta * a2 / vec_r_old.mag**2\n",
    "    # compute the absolute value of the acceleration\n",
    "    a = c_a * fact / vec_r_old.mag**2\n",
    "    # multiply by the direction to get the acceleration vector\n",
    "    vec_a = - a * ( vec_r_old / vec_r_old.mag )\n",
    "    # update velocity vector\n",
    "    vec_v_new = vec_v_old + vec_a * dt\n",
    "    # update position vector\n",
    "    vec_r_new = vec_r_old + vec_v_new * dt\n",
    "    return vec_r_new, vec_v_new"
   ]
  },
  {
   "cell_type": "markdown",
   "metadata": {},
   "source": [
    "Finally, before we start the simmulation, we have to specify how long it should run, how big the time steps are and which parameters we want to use for the forces."
   ]
  },
  {
   "cell_type": "code",
   "execution_count": null,
   "metadata": {
    "ExecuteTime": {
     "end_time": "2018-01-12T15:47:12.941893Z",
     "start_time": "2018-01-12T15:47:12.936098Z"
    }
   },
   "outputs": [],
   "source": [
    "dt = 2. * vM0 / c_a / 20  # time step\n",
    "alpha = 1.e6              # strength of 1/r**3 term\n",
    "beta = 0.0                # strength of 1/r**4 term\n",
    "time = 0                  # current simulation time\n",
    "max_time = 1000*dt        # maximum simulation time"
   ]
  },
  {
   "cell_type": "markdown",
   "metadata": {},
   "source": [
    "# Visualization"
   ]
  },
  {
   "cell_type": "code",
   "execution_count": null,
   "metadata": {
    "ExecuteTime": {
     "start_time": "2018-01-12T15:47:11.539Z"
    }
   },
   "outputs": [],
   "source": [
    "# Specify how the output should look like\n",
    "scene            = canvas()             # create a new scene: this displays the scene below this cell\n",
    "scene.userzoom   = False                # no zoom allowed (for smooth scrolling in notebook)\n",
    "scene.width      = 1024                 # width of visualization in pixel\n",
    "scene.height     = 1024                 # height of visualization in pixel\n",
    "scene.background = color.white          # background color\n",
    "scene.center     = vector(0, -2, 0)     # and shifted center\n",
    "\n",
    "# define graphical objects; M = Mercury, V = Venus, S = Sun\n",
    "M = sphere(pos=vec_rM0,         radius=0.5,  color=color.red   )\n",
    "V = sphere(pos=vec_rV0,         radius=0.5,  color=color.orange)\n",
    "S = sphere(pos=vector(0, 0, 0), radius=1.5,  color=color.yellow)\n",
    "# and the initial velocities\n",
    "M.velocity = vec_vM0\n",
    "V.velocity = vec_vV0\n",
    "S.velocity = vector(0, 0, 0)\n",
    "\n",
    "# add a visible trajectory to Mercury and Venus\n",
    "M.trajectory = curve(color=color.black, radius=0.005)\n",
    "V.trajectory = curve(color=color.black, radius=0.005)\n",
    "\n",
    "# run the simulation for a given time and draw trajectory\n",
    "while time < max_time:\n",
    "    # set the frame rate: shows four earth days at once\n",
    "    rate(100)\n",
    "    # update the drawn trajectories with the current position\n",
    "    M.trajectory.append(pos=M.pos)\n",
    "    V.trajectory.append(pos=V.pos)\n",
    "    # update the velocities and positions\n",
    "    M.pos, M.velocity = evolve_planet(M.pos, M.velocity, alpha, beta)\n",
    "    V.pos, V.velocity = evolve_planet(V.pos, V.velocity, alpha, beta)\n"
   ]
  }
 ],
 "metadata": {
  "kernelspec": {
   "display_name": "VPython",
   "language": "python",
   "name": "vpython"
  },
  "language_info": {
   "codemirror_mode": {
    "name": "ipython",
    "version": 3
   },
   "file_extension": ".py",
   "mimetype": "text/x-python",
   "name": "python",
   "nbconvert_exporter": "python",
   "pygments_lexer": "ipython3",
   "version": "3.6.4"
  }
 },
 "nbformat": 4,
 "nbformat_minor": 2
}
