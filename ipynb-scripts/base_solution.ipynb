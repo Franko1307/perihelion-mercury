{
 "cells": [
  {
   "cell_type": "markdown",
   "metadata": {},
   "source": [
    "# The perihelion motion of Mercury - Base solution"
   ]
  },
  {
   "cell_type": "markdown",
   "metadata": {},
   "source": [
    "This Notebook contains the basic solution for visulaizing the perihelion motion of Mercury caused by General Relativity. \n",
    "\n",
    "We simulate the motion of Mercury and display it's position and a trajectory at\n",
    "regular intervals. The additional term $\\sim \\alpha/r^3$ and $\\sim \\beta/r^4$ are included in the computation of the force.\n",
    "\n",
    "In order to simulate without them, one can simply set $\\alpha = 0 = \\beta$ before starting the while loop."
   ]
  },
  {
   "cell_type": "markdown",
   "metadata": {
    "ExecuteTime": {
     "end_time": "2018-01-12T14:54:06.755848Z",
     "start_time": "2018-01-12T14:54:06.752957Z"
    }
   },
   "source": [
    "## Importing VPython"
   ]
  },
  {
   "cell_type": "code",
   "execution_count": null,
   "metadata": {
    "ExecuteTime": {
     "end_time": "2018-01-16T10:13:58.676217Z",
     "start_time": "2018-01-16T10:13:57.129656Z"
    },
    "scrolled": true
   },
   "outputs": [],
   "source": [
    "from vpython import *"
   ]
  },
  {
   "cell_type": "markdown",
   "metadata": {},
   "source": [
    "## Defining parameters and functions"
   ]
  },
  {
   "cell_type": "markdown",
   "metadata": {
    "ExecuteTime": {
     "end_time": "2018-01-12T14:55:04.374817Z",
     "start_time": "2018-01-12T14:55:04.370205Z"
    }
   },
   "source": [
    "The following parameter values are computed using https://nssdc.gsfc.nasa.gov/planetary/factsheet"
   ]
  },
  {
   "cell_type": "code",
   "execution_count": null,
   "metadata": {
    "ExecuteTime": {
     "end_time": "2018-01-16T10:13:58.683773Z",
     "start_time": "2018-01-16T10:13:58.679276Z"
    }
   },
   "outputs": [],
   "source": [
    "rM0 = 4.60    # Initial radius of Mercury orbit, in units of R0\n",
    "vM0 = 5.10e-1 # Initial orbital speed of Mercury, in units of R0/T0\n",
    "c_a = 9.90e-1 # Base acceleration of Mercury, in units of R0**3/T0**2\n",
    "rS  = 2.95e-7 # Schwarzschild radius of Sun,in units of R0\n",
    "ra2 = 8.19e-7 # Specific angular momentum, in units of R0**2"
   ]
  },
  {
   "cell_type": "markdown",
   "metadata": {},
   "source": [
    "Because we want to visualize the orbit of Mercury, we need to work with vectors. The initial position and velocity vectors of mercury are thus given by"
   ]
  },
  {
   "cell_type": "code",
   "execution_count": null,
   "metadata": {
    "ExecuteTime": {
     "end_time": "2018-01-16T10:13:58.691129Z",
     "start_time": "2018-01-16T10:13:58.687015Z"
    }
   },
   "outputs": [],
   "source": [
    "vec_rM0 = vector(0, rM0, 0) # Initial position vector of Mercury\n",
    "vec_vM0 = vector(vM0, 0, 0) # Initial velocity vector of Mercury"
   ]
  },
  {
   "cell_type": "markdown",
   "metadata": {},
   "source": [
    "Next, we specify how to update vectors. For this update, we have to compute the force acting on Mercury."
   ]
  },
  {
   "cell_type": "code",
   "execution_count": null,
   "metadata": {
    "ExecuteTime": {
     "end_time": "2018-01-16T10:13:58.708723Z",
     "start_time": "2018-01-16T10:13:58.693265Z"
    }
   },
   "outputs": [],
   "source": [
    "def evolve_mercury(vec_rM_old, vec_vM_old, alpha, beta):\n",
    "    \"\"\"\n",
    "    Advance Mercury in time by one step of length dt.\n",
    "    Arguments:\n",
    "         - vec_rM_old: old position vector of Mercury\n",
    "         - vec_vM_old: old velocity vector of Mercury\n",
    "         - alpha: strength of 1/r**3 term in force\n",
    "         - beta: strength of 1/r**4 term in force\n",
    "    Returns:\n",
    "         - vec_rM_new: new position vector of Mercury\n",
    "         - vec_vM_new: new velocity vector of Mercury\n",
    "    \"\"\"\n",
    "\n",
    "    # Compute the factor coming from General Relativity\n",
    "    fact = 1 + alpha * rS / vec_rM_old.mag + beta * ra2 / vec_rM_old.mag**2\n",
    "    # Compute the absolute value of the acceleration\n",
    "    aMS = c_a * fact / vec_rM_old.mag**2\n",
    "    # Multiply by the direction to get the acceleration vector\n",
    "    vec_aMS = - aMS * ( vec_rM_old / vec_rM_old.mag )\n",
    "    # Update velocity vector\n",
    "    vec_vM_new = vec_vM_old + vec_aMS * dt\n",
    "    # Update position vector\n",
    "    vec_rM_new = vec_rM_old + vec_vM_new * dt\n",
    "    return vec_rM_new, vec_vM_new"
   ]
  },
  {
   "cell_type": "markdown",
   "metadata": {},
   "source": [
    "Finally, before we start the simmulation, we have to specify how long it should run, how big the time steps are and which parameters we want to use for the forces."
   ]
  },
  {
   "cell_type": "code",
   "execution_count": null,
   "metadata": {
    "ExecuteTime": {
     "end_time": "2018-01-16T10:13:58.720211Z",
     "start_time": "2018-01-16T10:13:58.710773Z"
    }
   },
   "outputs": [],
   "source": [
    "dt = 2. * vM0 / c_a / 20  # Time step\n",
    "alpha = 1.e6              # Strength of 1/r**3 term\n",
    "beta = 0.0                # Strength of 1/r**4 term\n",
    "time = 0                  # Current simulation time\n",
    "max_time = 1000*dt        # Maximum simulation time"
   ]
  },
  {
   "cell_type": "markdown",
   "metadata": {},
   "source": [
    "# Visualization"
   ]
  },
  {
   "cell_type": "code",
   "execution_count": null,
   "metadata": {
    "ExecuteTime": {
     "start_time": "2018-01-16T10:13:57.147Z"
    }
   },
   "outputs": [],
   "source": [
    "# Specify how the output should look like\n",
    "scene            = canvas()             # Create a new scene: this displays the scene below this cell\n",
    "scene.userzoom   = False                # No zoom allowed (for smooth scrolling in notebook)\n",
    "scene.width      = 1024                 # Width of visualization in pixel\n",
    "scene.height     = 1024                 # Height of visualization in pixel\n",
    "scene.background = color.white          # Background color ...\n",
    "scene.center     = vector(0, -2, 0)     # ... and shifted center\n",
    "\n",
    "# Define graphical objects; M = Mercury, S = Sun ...\n",
    "M = sphere(pos=vec_rM0,         radius=0.5,  color=color.red   )\n",
    "S = sphere(pos=vector(0, 0, 0), radius=1.5,  color=color.yellow)\n",
    "# ... and the initial velocities\n",
    "M.velocity = vec_vM0\n",
    "S.velocity = vector(0, 0, 0)\n",
    "\n",
    "# Add a visible trajectory to Mercury\n",
    "M.trajectory = curve(color=color.black, radius=0.005)\n",
    "\n",
    "# Run the simulation for a given time and draw trajectory\n",
    "while time < max_time:\n",
    "    # Set the frame rate: shows four earth days at once\n",
    "    rate(100)\n",
    "    # Update the drawn trajectory with the current position\n",
    "    M.trajectory.append(pos=M.pos)\n",
    "    # Update the velocity and position\n",
    "    M.pos, M.velocity = evolve_mercury(M.pos, M.velocity, alpha, beta)"
   ]
  }
 ],
 "metadata": {
  "kernelspec": {
   "display_name": "VPython",
   "language": "python",
   "name": "vpython"
  },
  "language_info": {
   "codemirror_mode": {
    "name": "ipython",
    "version": 3
   },
   "file_extension": ".py",
   "mimetype": "text/x-python",
   "name": "python",
   "nbconvert_exporter": "python",
   "pygments_lexer": "ipython3",
   "version": "3.6.4"
  }
 },
 "nbformat": 4,
 "nbformat_minor": 2
}
