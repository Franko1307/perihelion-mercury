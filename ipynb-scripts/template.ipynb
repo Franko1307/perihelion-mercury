{
 "cells": [
  {
   "cell_type": "markdown",
   "metadata": {},
   "source": [
    "# The perihelion motion of Mercury - Base solution"
   ]
  },
  {
   "cell_type": "markdown",
   "metadata": {},
   "source": [
    "This Notebook contains a template for the simulation of Mercuries orbit.\n",
    "\n",
    "It sets up the graphics display and defines basic parameters like the position and\n",
    "velocity of Mercury. It also provides a basic structure for the program to get started\n",
    "quickly.\n",
    "\n",
    "The run parameters are given just before the while loop at the end. They can be\n",
    "changed freely but the values given have proven to yield good results."
   ]
  },
  {
   "cell_type": "markdown",
   "metadata": {},
   "source": [
    "## ToDo list"
   ]
  },
  {
   "cell_type": "markdown",
   "metadata": {},
   "source": [
    "The tasks which needs to be done are:\n",
    "1. Complete the function `evolve_mercury`\n",
    "2. Create the graphical objects\n",
    "3. Finalize the loop which updates the position of mercury"
   ]
  },
  {
   "cell_type": "markdown",
   "metadata": {
    "ExecuteTime": {
     "end_time": "2018-01-12T14:54:06.755848Z",
     "start_time": "2018-01-12T14:54:06.752957Z"
    }
   },
   "source": [
    "## Importing VPython"
   ]
  },
  {
   "cell_type": "code",
   "execution_count": null,
   "metadata": {
    "ExecuteTime": {
     "end_time": "2018-01-16T10:24:45.609072Z",
     "start_time": "2018-01-16T10:24:44.199141Z"
    },
    "scrolled": true
   },
   "outputs": [],
   "source": [
    "from vpython import *"
   ]
  },
  {
   "cell_type": "markdown",
   "metadata": {},
   "source": [
    "## Defining parameters and functions"
   ]
  },
  {
   "cell_type": "markdown",
   "metadata": {
    "ExecuteTime": {
     "end_time": "2018-01-12T14:55:04.374817Z",
     "start_time": "2018-01-12T14:55:04.370205Z"
    }
   },
   "source": [
    "The following parameter values are computed using https://nssdc.gsfc.nasa.gov/planetary/factsheet"
   ]
  },
  {
   "cell_type": "code",
   "execution_count": null,
   "metadata": {
    "ExecuteTime": {
     "end_time": "2018-01-16T10:24:45.620908Z",
     "start_time": "2018-01-16T10:24:45.616558Z"
    }
   },
   "outputs": [],
   "source": [
    "rM0 = 4.60    # Initial radius of Mercury orbit, in units of R0\n",
    "vM0 = 5.10e-1 # Initial orbital speed of Mercury, in units of R0/T0\n",
    "c_a = 9.90e-1 # Base acceleration of Mercury, in units of R0**3/T0**2\n",
    "rS  = 2.95e-7 # Schwarzschild radius of Sun,in units of R0\n",
    "ra2 = 8.19e-7 # Specific angular momentum, in units of R0**2"
   ]
  },
  {
   "cell_type": "markdown",
   "metadata": {},
   "source": [
    "Because we want to visualize the orbit of Mercury, we need to work with vectors. The initial position and velocity vectors of mercury are thus given by"
   ]
  },
  {
   "cell_type": "code",
   "execution_count": null,
   "metadata": {
    "ExecuteTime": {
     "end_time": "2018-01-16T10:24:45.626686Z",
     "start_time": "2018-01-16T10:24:45.622958Z"
    }
   },
   "outputs": [],
   "source": [
    "vec_rM0 = vector(0, rM0, 0) # Initial position vector of Mercury\n",
    "vec_vM0 = vector(vM0, 0, 0) # Initial velocity vector of Mercury"
   ]
  },
  {
   "cell_type": "markdown",
   "metadata": {},
   "source": [
    "Finally, before we start the simmulation, we have to specify how long it should run, how big the time steps are and which parameters we want to use for the forces."
   ]
  },
  {
   "cell_type": "code",
   "execution_count": null,
   "metadata": {
    "ExecuteTime": {
     "end_time": "2018-01-16T10:24:45.637519Z",
     "start_time": "2018-01-16T10:24:45.629491Z"
    }
   },
   "outputs": [],
   "source": [
    "dt = 2. * vM0 / c_a / 20  # Time step\n",
    "alpha = 1.e6              # Strength of 1/r**3 term\n",
    "beta = 0.0                # Strength of 1/r**4 term\n",
    "time = 0                  # Current simulation time\n",
    "max_time = 1000*dt        # Maximum simulation time"
   ]
  },
  {
   "cell_type": "markdown",
   "metadata": {},
   "source": [
    "## Task 1: Update Mercury"
   ]
  },
  {
   "cell_type": "markdown",
   "metadata": {},
   "source": [
    "Calculate new position and velocity of Mercury here in the following function. \n",
    "You must specify:\n",
    "\n",
    "`vec_rM_new = ??`\n",
    "\n",
    "`vec_vM_new = ??`\n"
   ]
  },
  {
   "cell_type": "code",
   "execution_count": null,
   "metadata": {
    "ExecuteTime": {
     "end_time": "2018-01-16T10:24:45.651296Z",
     "start_time": "2018-01-16T10:24:45.639661Z"
    }
   },
   "outputs": [],
   "source": [
    "def evolve_mercury(vec_rM_old, vec_vM_old, alpha, beta):\n",
    "    \"\"\"\n",
    "    Advance Mercury in time by one step of length dt.\n",
    "    Arguments:\n",
    "         - vec_rM_old: old position vector of Mercury\n",
    "         - vec_vM_old: old velocity vector of Mercury\n",
    "         - alpha: strength of 1/r**3 term in force\n",
    "         - beta: strength of 1/r**4 term in force\n",
    "    Returns:\n",
    "         - vec_rM_new: new position vector of Mercury\n",
    "         - vec_vM_new: new velocity vector of Mercury\n",
    "    \"\"\"\n",
    "\n",
    "    ### TODO\n",
    "    #  - Calculate new position and velocity of Mercury here.\n",
    "    # vec_rM_new = ??\n",
    "    # vec_vM_new = ??\n",
    "\n",
    "    return vec_rM_new, vec_vM_new"
   ]
  },
  {
   "cell_type": "markdown",
   "metadata": {},
   "source": [
    "# Task 2 and 3: Visualization"
   ]
  },
  {
   "cell_type": "markdown",
   "metadata": {},
   "source": [
    "2. Next, you have to create the graphical objects, specify their initial positions and add a visible trajectoy to Mercury.\n",
    "3. Once this is done, complete the loop by updating Mercury and drawing the trajectory. "
   ]
  },
  {
   "cell_type": "code",
   "execution_count": null,
   "metadata": {
    "ExecuteTime": {
     "start_time": "2018-01-16T10:24:44.213Z"
    }
   },
   "outputs": [],
   "source": [
    "# Specify how the output should look like\n",
    "scene            = canvas()             # Create a new scene: this displays the scene below this cell\n",
    "scene.userzoom   = False                # No zoom allowed (for smooth scrolling in notebook)\n",
    "scene.width      = 1024                 # Width of visualization in pixel\n",
    "scene.height     = 1024                 # Height of visualization in pixel\n",
    "scene.background = color.white          # Background color ...\n",
    "scene.center     = vector(0, -2, 0)     # ... and shifted center\n",
    "\n",
    "# Define graphical objects; M = Mercury, S = Sun ...\n",
    "S = sphere(pos=vector(0, 0, 0), radius=1.5,  color=color.yellow)\n",
    "### TODO\n",
    "#  - Define graphical Mercury objects that you want to display.\n",
    "#  - Give Mercury initial positions and velocities.\n",
    "#  - Enable drawing of trajectory of Mercury by using the 'curve' object\n",
    "\n",
    "\n",
    "# run the simulation for a given time and draw trajectory\n",
    "while time < max_time:\n",
    "    # set the frame rate: shows four earth days at once\n",
    "    rate(100)\n",
    "    \n",
    "    ### TODO\n",
    "    #  - Append position to trajectory.\n",
    "    #  - Update position and velocity of Mercury (see function evolve_mercury)."
   ]
  }
 ],
 "metadata": {
  "kernelspec": {
   "display_name": "VPython",
   "language": "python",
   "name": "vpython"
  },
  "language_info": {
   "codemirror_mode": {
    "name": "ipython",
    "version": 3
   },
   "file_extension": ".py",
   "mimetype": "text/x-python",
   "name": "python",
   "nbconvert_exporter": "python",
   "pygments_lexer": "ipython3",
   "version": "3.6.4"
  }
 },
 "nbformat": 4,
 "nbformat_minor": 2
}
