{
 "cells": [
  {
   "cell_type": "markdown",
   "metadata": {},
   "source": [
    "# The perihelion motion of Mercury - Base solution"
   ]
  },
  {
   "cell_type": "markdown",
   "metadata": {},
   "source": [
    "This Notebook is an extension of the base solution which measures and display the preihelion motion of Mercury.\n",
    "\n",
    "It extends `base_solution.ipynb` by keeping track of the location of the perihelion\n",
    "of Mercury. It computes and outputs the angle by which it changes over\n",
    "the course of the simulation.\n",
    "\n",
    "The stopping criterion for the simulation is different than in `base_solution.ipynb`. It uses a fixed number\n",
    "of revolutions around the sun instead of a fixed run time."
   ]
  },
  {
   "cell_type": "markdown",
   "metadata": {
    "ExecuteTime": {
     "end_time": "2018-01-12T14:54:06.755848Z",
     "start_time": "2018-01-12T14:54:06.752957Z"
    }
   },
   "source": [
    "## Importing VPython"
   ]
  },
  {
   "cell_type": "code",
   "execution_count": null,
   "metadata": {
    "ExecuteTime": {
     "end_time": "2018-01-12T15:32:36.898099Z",
     "start_time": "2018-01-12T15:32:35.666701Z"
    },
    "scrolled": true
   },
   "outputs": [],
   "source": [
    "from vpython import *"
   ]
  },
  {
   "cell_type": "markdown",
   "metadata": {},
   "source": [
    "## Defining parameters and functions"
   ]
  },
  {
   "cell_type": "markdown",
   "metadata": {
    "ExecuteTime": {
     "end_time": "2018-01-12T14:55:04.374817Z",
     "start_time": "2018-01-12T14:55:04.370205Z"
    }
   },
   "source": [
    "The following parameter values are computed using https://nssdc.gsfc.nasa.gov/planetary/factsheet"
   ]
  },
  {
   "cell_type": "code",
   "execution_count": null,
   "metadata": {
    "ExecuteTime": {
     "end_time": "2018-01-12T15:32:36.905519Z",
     "start_time": "2018-01-12T15:32:36.900688Z"
    }
   },
   "outputs": [],
   "source": [
    "rM0 = 4.6    # initial radius of Mercury orbit, in units of R0\n",
    "vM0 = 0.51   # initial orbital speed of Mercury, in units of R0/T0\n",
    "c_a = 1.01   # base acceleration of Mercur, in units of R0/T0**2\n",
    "rS  = 3.e-7  # Schwarzschild radius of Sun, in units of R0\n",
    "a2  = 8.2e-7 # specific angular momentum in units of R0**2"
   ]
  },
  {
   "cell_type": "markdown",
   "metadata": {},
   "source": [
    "Because we want to visualize the orbit of Mercury, we need to work with vectors. The initial position and velocity vectors of mercury are thus given by"
   ]
  },
  {
   "cell_type": "code",
   "execution_count": null,
   "metadata": {
    "ExecuteTime": {
     "end_time": "2018-01-12T15:32:36.911340Z",
     "start_time": "2018-01-12T15:32:36.908235Z"
    }
   },
   "outputs": [],
   "source": [
    "vec_rM0 = vector(0, rM0, 0) # Initial position vector of Mercury\n",
    "vec_vM0 = vector(vM0, 0, 0) # Initial velocity vector of Mercury"
   ]
  },
  {
   "cell_type": "markdown",
   "metadata": {},
   "source": [
    "Next, we specify how to update vectors. For this update, we have to compute the force acting on Mercury."
   ]
  },
  {
   "cell_type": "code",
   "execution_count": null,
   "metadata": {
    "ExecuteTime": {
     "end_time": "2018-01-12T15:32:36.930355Z",
     "start_time": "2018-01-12T15:32:36.913497Z"
    }
   },
   "outputs": [],
   "source": [
    "def evolve_mercury(vec_rM_old, vec_vM_old, alpha, beta):\n",
    "    \"\"\"\n",
    "    Advance Mercury in time by one step of length dt.\n",
    "    Arguments:\n",
    "         - vec_rM_old: old position vector of Mercury\n",
    "         - vec_vM_old: old velocity vector of Mercury\n",
    "         - alpha: strength of 1/r**3 term in force\n",
    "         - beta: strength of 1/r**4 term in force\n",
    "    Returns:\n",
    "         - vec_rM_new: new position vector of Mercury\n",
    "         - vec_vM_new: new velocity vector of Mercury\n",
    "    \"\"\"\n",
    "\n",
    "    # compute the factor coming from General Relativity\n",
    "    fact = 1 + alpha * rS / vec_rM_old.mag + beta * a2 / vec_rM_old.mag**2\n",
    "    # compute the absolute value of the acceleration\n",
    "    aMS = c_a * fact / vec_rM_old.mag**2\n",
    "    # multiply by the direction to get the acceleration vector\n",
    "    vec_aMS = - aMS * ( vec_rM_old / vec_rM_old.mag )\n",
    "    # update velocity vector\n",
    "    vec_vM_new = vec_vM_old + vec_aMS * dt\n",
    "    # update position vector\n",
    "    vec_rM_new = vec_rM_old + vec_vM_new * dt\n",
    "    return vec_rM_new, vec_vM_new"
   ]
  },
  {
   "cell_type": "markdown",
   "metadata": {},
   "source": [
    "Also, we want to measure the angle between to vectors. This is done by the next function definition."
   ]
  },
  {
   "cell_type": "code",
   "execution_count": null,
   "metadata": {
    "ExecuteTime": {
     "end_time": "2018-01-12T15:32:36.938076Z",
     "start_time": "2018-01-12T15:32:36.933011Z"
    }
   },
   "outputs": [],
   "source": [
    "def angle_between(v1, v2):\n",
    "    \"\"\"Compute angle between two vectors. Result is in degrees.\"\"\"\n",
    "    return acos( dot(v1, v2) / (v1.mag * v2.mag) ) * 180. / pi"
   ]
  },
  {
   "cell_type": "markdown",
   "metadata": {},
   "source": [
    "Finally, before we start the simmulation, we have to specify how long it should run, how big the time steps are and which parameters we want to use for the forces."
   ]
  },
  {
   "cell_type": "code",
   "execution_count": null,
   "metadata": {
    "ExecuteTime": {
     "end_time": "2018-01-12T15:32:36.947209Z",
     "start_time": "2018-01-12T15:32:36.939960Z"
    }
   },
   "outputs": [],
   "source": [
    "dt = 2. * vM0 / c_a / 10  # time step\n",
    "alpha      = 1.e6         # strength of 1/r**3 term\n",
    "beta       = 0.0          # strength of 1/r**4 term\n",
    "vec_r_last = vec_rM0      # previous position of Mercury\n",
    "turns      = 0            # number of completed turns\n",
    "max_turns  = 10           # maximum number of turns\n",
    "list_perih = list()       # list of perihelion locations\n",
    "sum_angle  = 0.           # angle between first and last perihelion"
   ]
  },
  {
   "cell_type": "markdown",
   "metadata": {},
   "source": [
    "# Visualization"
   ]
  },
  {
   "cell_type": "code",
   "execution_count": null,
   "metadata": {
    "ExecuteTime": {
     "end_time": "2018-01-12T15:32:44.387935Z",
     "start_time": "2018-01-12T15:32:36.949660Z"
    }
   },
   "outputs": [],
   "source": [
    "# Specify how the output should look like\n",
    "scene            = canvas()             # create a new scene: this displays the scene below this cell\n",
    "scene.userzoom   = False                # no zoom allowed (for smooth scrolling in notebook)\n",
    "scene.width      = 1024                 # width of visualization in pixel\n",
    "scene.height     = 1024                 # height of visualization in pixel\n",
    "scene.background = color.white          # background color\n",
    "scene.center     = vector(0, -2, 0)     # and shifted center\n",
    "\n",
    "# define graphical objects; M = Mercury, S = Sun\n",
    "M = sphere(pos=vec_rM0,         radius=0.5,  color=color.red   )\n",
    "S = sphere(pos=vector(0, 0, 0), radius=1.5,  color=color.yellow)\n",
    "# and the initial velocities\n",
    "M.velocity = vec_vM0\n",
    "S.velocity = vector(0, 0, 0)\n",
    "\n",
    "# add a visible trajectory to Mercury\n",
    "M.trajectory = curve(color=color.black, radius=0.005)\n",
    "\n",
    "# find perihelion for each turn and print it out\n",
    "while turns < max_turns:\n",
    "    vec_r_before_last = vec_r_last\n",
    "    vec_r_last        = vector(M.pos)\n",
    "    # set the frame rate: shows four earth days at once\n",
    "    rate(100)\n",
    "    # update the drawn trajectory with the current position\n",
    "    M.trajectory.append(pos=M.pos)\n",
    "    # update the velocity and position\n",
    "    M.pos, M.velocity = evolve_mercury(M.pos, M.velocity, alpha, beta)\n",
    "    # check if just past perihelion\n",
    "    if vec_r_before_last.mag > vec_r_last.mag < M.pos.mag:\n",
    "        turns = turns+1\n",
    "        list_perih.append(vec_r_last)\n",
    "        if turns > 1:\n",
    "            # draw location of perihelion\n",
    "            sphere(color=color.green, radius=0.2, pos=vec_r_last)\n",
    "            # display intermediate results (will be shown once simulation has finished)\n",
    "            print(\"turn: n={n}, perihelion growth: delta Theta={angle}\".format(\n",
    "                n=turns, angle=angle_between(list_perih[-2], list_perih[-1])\n",
    "            ))\n",
    "            # note that list_perih[-2] accesses the second last and\n",
    "            #  list_perih[-1] the last element in the list\n",
    "            sum_angle = sum_angle + angle_between(list_perih[-2], list_perih[-1])\n",
    "\n",
    "# display the average\n",
    "print(\"--------------------------------\")\n",
    "print(\"average perihelion growth: delta Theta={avg}\".format(\n",
    "    avg=sum_angle/(len(list_perih)-1)\n",
    "))"
   ]
  }
 ],
 "metadata": {
  "kernelspec": {
   "display_name": "VPython",
   "language": "python",
   "name": "vpython"
  },
  "language_info": {
   "codemirror_mode": {
    "name": "ipython",
    "version": 3
   },
   "file_extension": ".py",
   "mimetype": "text/x-python",
   "name": "python",
   "nbconvert_exporter": "python",
   "pygments_lexer": "ipython3",
   "version": "3.6.4"
  }
 },
 "nbformat": 4,
 "nbformat_minor": 2
}
