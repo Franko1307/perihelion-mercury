{
 "cells": [
  {
   "cell_type": "markdown",
   "metadata": {},
   "source": [
    "# The perihelion motion of Mercury - Base solution"
   ]
  },
  {
   "cell_type": "markdown",
   "metadata": {},
   "source": [
    "This Notebook contains the basic solution for visulaizing the perihelion motion of Mercury caused by General Relativity. \n",
    "\n",
    "We simulate the motion of Mercury and display its position and a trajectory at\n",
    "regular intervals. The additional term $\\sim \\alpha/r^3$ and $\\sim \\beta/r^4$ are included in the computation of the force.\n",
    "\n",
    "In order to simulate without them, one can simply set $\\alpha = 0 = \\beta$ before starting the while loop."
   ]
  },
  {
   "cell_type": "markdown",
   "metadata": {
    "ExecuteTime": {
     "end_time": "2018-01-12T14:54:06.755848Z",
     "start_time": "2018-01-12T14:54:06.752957Z"
    }
   },
   "source": [
    "## Importing VPython"
   ]
  },
  {
   "cell_type": "code",
   "execution_count": null,
   "metadata": {
    "ExecuteTime": {
     "end_time": "2018-01-12T15:24:21.970453Z",
     "start_time": "2018-01-12T15:24:20.756156Z"
    },
    "scrolled": true
   },
   "outputs": [],
   "source": [
    "from vpython import *"
   ]
  },
  {
   "cell_type": "markdown",
   "metadata": {},
   "source": [
    "## Defining parameters and functions"
   ]
  },
  {
   "cell_type": "markdown",
   "metadata": {
    "ExecuteTime": {
     "end_time": "2018-01-12T14:55:04.374817Z",
     "start_time": "2018-01-12T14:55:04.370205Z"
    }
   },
   "source": [
    "The following parameter values are computed using https://nssdc.gsfc.nasa.gov/planetary/factsheet"
   ]
  },
  {
   "cell_type": "code",
   "execution_count": null,
   "metadata": {
    "ExecuteTime": {
     "end_time": "2018-01-12T15:24:22.140987Z",
     "start_time": "2018-01-12T15:24:22.135314Z"
    }
   },
   "outputs": [],
   "source": [
    "rM0 = 4.6    # initial radius of Mercury orbit, in units of R0\n",
    "vM0 = 0.51   # initial orbital speed of Mercury, in units of R0/T0\n",
    "c_a = 1.01   # base acceleration of Mercur, in units of R0/T0**2\n",
    "rS  = 3.e-7  # Schwarzschild radius of Sun, in units of R0\n",
    "a2  = 8.2e-7 # specific angular momentum in units of R0**2"
   ]
  },
  {
   "cell_type": "markdown",
   "metadata": {},
   "source": [
    "Because we want to visualize the orbit of Mercury, we need to work with vectors. The initial position and velocity vectors of mercury are thus given by"
   ]
  },
  {
   "cell_type": "code",
   "execution_count": null,
   "metadata": {
    "ExecuteTime": {
     "end_time": "2018-01-12T15:24:22.887676Z",
     "start_time": "2018-01-12T15:24:22.883713Z"
    }
   },
   "outputs": [],
   "source": [
    "vec_rM0 = vector(0, rM0, 0) # Initial position vector of Mercury\n",
    "vec_vM0 = vector(vM0, 0, 0) # Initial velocity vector of Mercury"
   ]
  },
  {
   "cell_type": "markdown",
   "metadata": {},
   "source": [
    "Next, we specify how to update vectors. For this update, we have to compute the force acting on Mercury."
   ]
  },
  {
   "cell_type": "code",
   "execution_count": null,
   "metadata": {
    "ExecuteTime": {
     "end_time": "2018-01-12T15:24:23.891091Z",
     "start_time": "2018-01-12T15:24:23.872031Z"
    }
   },
   "outputs": [],
   "source": [
    "def evolve_mercury(vec_rM_old, vec_vM_old, alpha, beta):\n",
    "    \"\"\"\n",
    "    Advance Mercury in time by one step of length dt.\n",
    "    Arguments:\n",
    "         - vec_rM_old: old position vector of Mercury\n",
    "         - vec_vM_old: old velocity vector of Mercury\n",
    "         - alpha: strength of 1/r**3 term in force\n",
    "         - beta: strength of 1/r**4 term in force\n",
    "    Returns:\n",
    "         - vec_rM_new: new position vector of Mercury\n",
    "         - vec_vM_new: new velocity vector of Mercury\n",
    "    \"\"\"\n",
    "\n",
    "    # compute the factor coming from General Relativity\n",
    "    fact = 1 + alpha * rS / vec_rM_old.mag + beta * a2 / vec_rM_old.mag**2\n",
    "    # compute the absolute value of the acceleration\n",
    "    aMS = c_a * fact / vec_rM_old.mag**2\n",
    "    # multiply by the direction to get the acceleration vector\n",
    "    vec_aMS = - aMS * ( vec_rM_old / vec_rM_old.mag )\n",
    "    # update velocity vector\n",
    "    vec_vM_new = vec_vM_old + vec_aMS * dt\n",
    "    # update position vector\n",
    "    vec_rM_new = vec_rM_old + vec_vM_new * dt\n",
    "    return vec_rM_new, vec_vM_new"
   ]
  },
  {
   "cell_type": "markdown",
   "metadata": {},
   "source": [
    "Finally, before we start the simmulation, we have to specify how long it should run, how big the time steps are and which parameters we want to use for the forces."
   ]
  },
  {
   "cell_type": "code",
   "execution_count": null,
   "metadata": {
    "ExecuteTime": {
     "end_time": "2018-01-12T15:24:25.355564Z",
     "start_time": "2018-01-12T15:24:25.350188Z"
    }
   },
   "outputs": [],
   "source": [
    "dt = 2. * vM0 / c_a / 20  # time step\n",
    "alpha = 1.e6              # strength of 1/r**3 term\n",
    "beta = 0.0                # strength of 1/r**4 term\n",
    "time = 0                  # current simulation time\n",
    "max_time = 1000*dt        # maximum simulation time"
   ]
  },
  {
   "cell_type": "markdown",
   "metadata": {},
   "source": [
    "# Visualization"
   ]
  },
  {
   "cell_type": "code",
   "execution_count": null,
   "metadata": {
    "ExecuteTime": {
     "end_time": "2018-01-12T15:24:50.287091Z",
     "start_time": "2018-01-12T15:24:27.024496Z"
    }
   },
   "outputs": [],
   "source": [
    "# Specify how the output should look like\n",
    "scene            = canvas()             # create a new scene: this displays the scene below this cell\n",
    "scene.userzoom   = False                # no zoom allowed (for smooth scrolling in notebook)\n",
    "scene.width      = 1024                 # width of visualization in pixel\n",
    "scene.height     = 1024                 # height of visualization in pixel\n",
    "scene.background = color.white          # background color\n",
    "scene.center     = vector(0, -2, 0)     # and shifted center\n",
    "\n",
    "# define graphical objects; M = Mercury, S = Sun\n",
    "M = sphere(pos=vec_rM0,         radius=0.5,  color=color.red   )\n",
    "S = sphere(pos=vector(0, 0, 0), radius=1.5,  color=color.yellow)\n",
    "# and the initial velocities\n",
    "M.velocity = vec_vM0\n",
    "S.velocity = vector(0, 0, 0)\n",
    "\n",
    "# add a visible trajectory to Mercury\n",
    "M.trajectory = curve(color=color.black, radius=0.005)\n",
    "\n",
    "# run the simulation for a given time and draw trajectory\n",
    "while time < max_time:\n",
    "    # set the frame rate: shows four earth days at once\n",
    "    rate(100)\n",
    "    # update the drawn trajectory with the current position\n",
    "    M.trajectory.append(pos=M.pos)\n",
    "    # update the velocity and position\n",
    "    M.pos, M.velocity = evolve_mercury(M.pos, M.velocity, alpha, beta)"
   ]
  }
 ],
 "metadata": {
  "kernelspec": {
   "display_name": "VPython",
   "language": "python",
   "name": "vpython"
  },
  "language_info": {
   "codemirror_mode": {
    "name": "ipython",
    "version": 3
   },
   "file_extension": ".py",
   "mimetype": "text/x-python",
   "name": "python",
   "nbconvert_exporter": "python",
   "pygments_lexer": "ipython3",
   "version": "3.6.4"
  }
 },
 "nbformat": 4,
 "nbformat_minor": 2
}
